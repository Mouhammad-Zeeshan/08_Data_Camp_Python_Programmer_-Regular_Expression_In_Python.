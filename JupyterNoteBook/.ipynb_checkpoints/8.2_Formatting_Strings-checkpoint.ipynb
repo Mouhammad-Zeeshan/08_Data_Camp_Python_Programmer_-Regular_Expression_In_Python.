{
 "cells": [
  {
   "cell_type": "code",
   "execution_count": null,
   "id": "44fa885e",
   "metadata": {},
   "outputs": [],
   "source": [
    "# # Assign the substrings to the variables\n",
    "# first_pos = wikipedia_article[3:19].lower()\n",
    "# second_pos = wikipedia_article[21:44].lower()\n",
    "\n",
    "# # Define string with placeholders \n",
    "# my_list.append(\"The tool {} is used in {}\")\n",
    "\n",
    "# # Define string with rearranged placeholders\n",
    "# my_list.append(\"The tool {1} is used in {0}\")\n",
    "\n",
    "# # Use format to print strings\n",
    "# for my_string in my_list:\n",
    "#   \tprint(my_string.format(first_pos, second_pos))"
   ]
  },
  {
   "cell_type": "code",
   "execution_count": null,
   "id": "43d30dc8",
   "metadata": {},
   "outputs": [],
   "source": [
    "# # Create a dictionary\n",
    "# plan = {\n",
    "#   \t\t\"field\": courses[0],\n",
    "#         \"tool\": courses[1]\n",
    "#         }\n",
    "\n",
    "# # Complete the placeholders accessing elements of field and tool keys in the data dictionary\n",
    "# my_message = \"If you are interested in {data[field]}, you can take the course related to {data[tool]}\"\n",
    "\n",
    "# # Use the plan dictionary to replace placeholders\n",
    "# print(my_message.format(data=plan))"
   ]
  },
  {
   "cell_type": "code",
   "execution_count": 1,
   "id": "a7cc6761",
   "metadata": {},
   "outputs": [
    {
     "name": "stdout",
     "output_type": "stream",
     "text": [
      "Good morning. Today is September 15, 2022. It's 23:29 ... time to work!\n"
     ]
    }
   ],
   "source": [
    "# Import datetime \n",
    "from datetime import datetime\n",
    "\n",
    "# Assign date to get_date\n",
    "get_date = datetime.now()\n",
    "\n",
    "# Add named placeholders with format specifiers\n",
    "message = \"Good morning. Today is {today:%B %d, %Y}. It's {today:%H:%M} ... time to work!\"\n",
    "\n",
    "# Use the format method replacing the placeholder with get_date\n",
    "print(message.format(today=get_date))"
   ]
  },
  {
   "cell_type": "code",
   "execution_count": null,
   "id": "b152bba1",
   "metadata": {},
   "outputs": [],
   "source": []
  },
  {
   "cell_type": "code",
   "execution_count": null,
   "id": "4e035a83",
   "metadata": {},
   "outputs": [],
   "source": [
    "# # Complete the f-string\n",
    "# print(f\"Data science is considered {field1!r} in the {fact1:d}st century\")"
   ]
  },
  {
   "cell_type": "code",
   "execution_count": null,
   "id": "63d7468d",
   "metadata": {},
   "outputs": [],
   "source": [
    "# # Complete the f-string\n",
    "# print(f\"About {fact2:e} of {field2} in the world\")"
   ]
  },
  {
   "cell_type": "code",
   "execution_count": null,
   "id": "8246f109",
   "metadata": {},
   "outputs": [],
   "source": [
    "# # Complete the f-string\n",
    "# print(f\"{field3} create around {fact3:.2f}% of the data but only {fact4:.1f}% is analyzed\")"
   ]
  },
  {
   "cell_type": "code",
   "execution_count": null,
   "id": "2d9492b9",
   "metadata": {},
   "outputs": [],
   "source": [
    "# # Replace the substring http by an empty string\n",
    "# print(f\"{string1.replace('https', '')}\")"
   ]
  },
  {
   "cell_type": "code",
   "execution_count": null,
   "id": "fc3aa561",
   "metadata": {},
   "outputs": [],
   "source": [
    "# # Divide the length of list by 120 rounded to two decimals\n",
    "# print(f\"Only {(len(list_links)*100/120):.2f}% of the posts contain links\")"
   ]
  },
  {
   "cell_type": "code",
   "execution_count": null,
   "id": "dbc8f3bd",
   "metadata": {},
   "outputs": [],
   "source": [
    "# # Access values of date and price in east dictionary\n",
    "# print(f\"The price for a house in the east neighborhood was ${east['price']} in {east['date']:%m-%d-%Y}\") "
   ]
  },
  {
   "cell_type": "code",
   "execution_count": null,
   "id": "252f6263",
   "metadata": {},
   "outputs": [],
   "source": [
    "# # Import Template\n",
    "# from string import Template\n",
    "\n",
    "# # Create a template\n",
    "# wikipedia = Template(\"$tool is a $description\")\n",
    "\n",
    "# # Substitute variables in template\n",
    "# print(wikipedia.substitute(tool=tool1, description=description1))\n",
    "# print(wikipedia.substitute(tool=tool2, description=description2))\n",
    "# print(wikipedia.substitute(tool=tool3, description=description3))"
   ]
  },
  {
   "cell_type": "code",
   "execution_count": null,
   "id": "fc39b241",
   "metadata": {},
   "outputs": [],
   "source": [
    "# # Import template\n",
    "# from string import Template\n",
    "\n",
    "# # Select variables\n",
    "# our_tool = tools[0]\n",
    "# our_fee = tools[1]\n",
    "# our_pay = tools[2]\n",
    "\n",
    "# # Create template\n",
    "# course = Template(\"We are offering a 3-month beginner course on $tool just for $$ $fee ${pay}ly\")\n",
    "\n",
    "# # Substitute identifiers with three variables\n",
    "# print(course.substitute(tool=our_tool, fee=our_fee, pay=our_pay))"
   ]
  },
  {
   "cell_type": "code",
   "execution_count": 1,
   "id": "74822987",
   "metadata": {},
   "outputs": [],
   "source": [
    "# # Import template\n",
    "# from string import Template\n",
    "\n",
    "# # Complete template string using identifiers\n",
    "# the_answers = Template(\"Check your answer 1: $answer1, and your answer 2: $answer2\")\n",
    "\n",
    "# # Use substitute to replace identifiers\n",
    "# try:\n",
    "#     print(the_answers.substitute(answers))\n",
    "# except KeyError:\n",
    "#     print(\"Missing information\")"
   ]
  },
  {
   "cell_type": "code",
   "execution_count": null,
   "id": "9d247da0",
   "metadata": {},
   "outputs": [],
   "source": []
  },
  {
   "cell_type": "code",
   "execution_count": null,
   "id": "4ba6d39a",
   "metadata": {},
   "outputs": [],
   "source": []
  },
  {
   "cell_type": "code",
   "execution_count": null,
   "id": "b62247e5",
   "metadata": {},
   "outputs": [],
   "source": []
  }
 ],
 "metadata": {
  "kernelspec": {
   "display_name": "Python 3 (ipykernel)",
   "language": "python",
   "name": "python3"
  },
  "language_info": {
   "codemirror_mode": {
    "name": "ipython",
    "version": 3
   },
   "file_extension": ".py",
   "mimetype": "text/x-python",
   "name": "python",
   "nbconvert_exporter": "python",
   "pygments_lexer": "ipython3",
   "version": "3.9.12"
  }
 },
 "nbformat": 4,
 "nbformat_minor": 5
}
