{
 "cells": [
  {
   "cell_type": "markdown",
   "id": "c84dd7e1",
   "metadata": {},
   "source": [
    "## Capturing Group: "
   ]
  },
  {
   "cell_type": "code",
   "execution_count": 1,
   "id": "7c61dd5b",
   "metadata": {},
   "outputs": [],
   "source": [
    "# # Write a regex that matches email\n",
    "# regex_email = r\"([A-Za-z0-9]+)@\\S+\"\n",
    "\n",
    "# for tweet in sentiment_analysis:\n",
    "#     # Find all matches of regex in each tweet\n",
    "#     email_matched = re.findall(regex_email, tweet)\n",
    "\n",
    "#     # Complete the format method to print the results\n",
    "#     print(\"Lists of users found in this tweet: {}\".format(email_matched))"
   ]
  },
  {
   "cell_type": "code",
   "execution_count": null,
   "id": "2fdf4859",
   "metadata": {},
   "outputs": [],
   "source": [
    "# # Import re\n",
    "# import re\n",
    "\n",
    "# # Write regex to capture information of the flight\n",
    "# regex = r\"([A-Z]{2})(\\d{4})\\s([A-Z]{3})-([A-Z]{3})\\s(\\d{2}[A-Z]{3})\"\n",
    "\n",
    "# # Find all matches of the flight information\n",
    "# flight_matches = re.findall(regex, flight)\n",
    "    \n",
    "# #Print the matches\n",
    "# print(\"Airline: {} Flight number: {}\".format(flight_matches[0][0], flight_matches[0][1]))\n",
    "# print(\"Departure: {} Destination: {}\".format(flight_matches[0][2], flight_matches[0][3]))\n",
    "# print(\"Date: {}\".format(flight_matches[0][4]))"
   ]
  },
  {
   "cell_type": "code",
   "execution_count": null,
   "id": "80167af4",
   "metadata": {},
   "outputs": [],
   "source": [
    "# # Write a regex that matches sentences with the optional words\n",
    "# regex_positive = r\"(love|like|enjoy).+?(movie|concert)\\s(.+?)\\.\"\n",
    "\n",
    "# for tweet in sentiment_analysis:\n",
    "# \t# Find all matches of regex in tweet\n",
    "#     positive_matches = re.findall(regex_positive, tweet)\n",
    "    \n",
    "#     # Complete format to print out the results\n",
    "#     print(\"Positive comments found {}\".format(positive_matches))"
   ]
  },
  {
   "cell_type": "code",
   "execution_count": null,
   "id": "8429eaf3",
   "metadata": {},
   "outputs": [],
   "source": [
    "# # Write a regex that matches sentences with the optional words\n",
    "# regex_negative = r\"(hate|dislike|disapprove).+?(?:movie|concert)\\s(.+?)\\.\"\n",
    "\n",
    "# for tweet in sentiment_analysis:\n",
    "# \t# Find all matches of regex in tweet\n",
    "#     negative_matches = re.findall(regex_negative, tweet)\n",
    "    \n",
    "#     # Complete format to print out the results\n",
    "#     print(\"Negative comments found {}\".format(negative_matches))"
   ]
  },
  {
   "cell_type": "code",
   "execution_count": null,
   "id": "1d129f4b",
   "metadata": {},
   "outputs": [],
   "source": [
    "# # Write regex and scan contract to capture the dates described\n",
    "# regex_dates = r\"Signed\\son\\s(\\d{2})/(\\d{2})/(\\d{4})\"\n",
    "# dates = re.search(regex_dates, contract)\n",
    "\n",
    "# # Assign to each key the corresponding match\n",
    "# signature = {\n",
    "# \t\"day\": dates.group(2),\n",
    "# \t\"month\": dates.group(1),\n",
    "# \t\"year\": dates.group(3)\n",
    "# }\n",
    "# # Complete the format method to print-out\n",
    "# print(\"Our first contract is dated back to {data[year]}. Particularly, the day {data[day]} of the month {data[month]}.\".format(data=signature))"
   ]
  },
  {
   "cell_type": "code",
   "execution_count": null,
   "id": "32097da0",
   "metadata": {},
   "outputs": [],
   "source": [
    "# for string in html_tags:\n",
    "#     # Complete the regex and find if it matches a closed HTML tags\n",
    "#     match_tag =  re.match(r\"<(\\w+)>.*?</\\1>\", string)\n",
    " \n",
    "#     if match_tag:\n",
    "#         # If it matches print the first group capture\n",
    "#         print(\"Your tag {} is closed\".format(match_tag.group(1))) \n",
    "#     else:\n",
    "#         # If it doesn't match capture only the tag \n",
    "#         notmatch_tag = re.match(r\"<(\\w+)>\", string)\n",
    "#         # Print the first group capture\n",
    "#         print(\"Close your {} tag!\".format(notmatch_tag.group(1)))"
   ]
  },
  {
   "cell_type": "code",
   "execution_count": null,
   "id": "ebc1c8d7",
   "metadata": {},
   "outputs": [],
   "source": [
    "# # Complete the regex to match an elongated word\n",
    "# regex_elongated = r\"\\w*(\\w)\\1\\w*\"\n",
    "\n",
    "# for tweet in sentiment_analysis:\n",
    "# \t# Find if there is a match in each tweet \n",
    "# \tmatch_elongated = re.search(regex_elongated, tweet)\n",
    "    \n",
    "# \tif match_elongated:\n",
    "# \t\t# Assign the captured group zero \n",
    "# \t\telongated_word = match_elongated.group(0)\n",
    "        \n",
    "# \t\t# Complete the format method to print the word\n",
    "# \t\tprint(\"Elongated word found: {word}\".format(word=elongated_word))\n",
    "# \telse:\n",
    "# \t\tprint(\"No elongated word found\")     \t"
   ]
  },
  {
   "cell_type": "code",
   "execution_count": null,
   "id": "5bd539c9",
   "metadata": {},
   "outputs": [],
   "source": [
    "# # Positive lookahead\n",
    "# look_ahead = re.findall(r\"\\w+(?=\\spython)\", sentiment_analysis)\n",
    "\n",
    "# # Print out\n",
    "# print(look_ahead)"
   ]
  },
  {
   "cell_type": "code",
   "execution_count": null,
   "id": "34dc25b7",
   "metadata": {},
   "outputs": [],
   "source": [
    "# # Positive lookbehind\n",
    "# look_behind = re.findall(r\"(?<=[Pp]ython\\s)\\w+\", sentiment_analysis)\n",
    "\n",
    "# # Print out\n",
    "# print(look_behind)"
   ]
  },
  {
   "cell_type": "code",
   "execution_count": null,
   "id": "f812d8e4",
   "metadata": {},
   "outputs": [],
   "source": [
    "# for phone in cellphones:\n",
    "# \t# Get all phone numbers not preceded by area code\n",
    "# \tnumber = re.findall(r\"(?<!\\d{3}-)\\d{4}-\\d{6}-\\d{2}\", phone)\n",
    "# \tprint(number)"
   ]
  },
  {
   "cell_type": "code",
   "execution_count": null,
   "id": "9522b366",
   "metadata": {},
   "outputs": [],
   "source": [
    "# for phone in cellphones:\n",
    "# \t# Get all phone numbers not followed by optional extension\n",
    "# \tnumber = re.findall(r\"\\d{3}-\\d{4}-\\d{6}(?!-\\d{2})\", phone)\n",
    "# # \tprint(number)"
   ]
  }
 ],
 "metadata": {
  "kernelspec": {
   "display_name": "Python 3 (ipykernel)",
   "language": "python",
   "name": "python3"
  },
  "language_info": {
   "codemirror_mode": {
    "name": "ipython",
    "version": 3
   },
   "file_extension": ".py",
   "mimetype": "text/x-python",
   "name": "python",
   "nbconvert_exporter": "python",
   "pygments_lexer": "ipython3",
   "version": "3.9.12"
  }
 },
 "nbformat": 4,
 "nbformat_minor": 5
}
