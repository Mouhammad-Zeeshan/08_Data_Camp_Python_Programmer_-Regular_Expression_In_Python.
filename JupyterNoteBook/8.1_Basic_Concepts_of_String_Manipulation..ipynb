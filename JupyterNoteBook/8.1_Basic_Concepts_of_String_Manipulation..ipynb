{
 "cells": [
  {
   "cell_type": "code",
   "execution_count": 1,
   "id": "6d62175f",
   "metadata": {},
   "outputs": [],
   "source": [
    "import pandas as pd\n"
   ]
  },
  {
   "cell_type": "code",
   "execution_count": 2,
   "id": "d9044e2e",
   "metadata": {},
   "outputs": [],
   "source": [
    "df = pd.read_csv('short_movies.csv')"
   ]
  },
  {
   "cell_type": "code",
   "execution_count": 3,
   "id": "e67e7a3e",
   "metadata": {},
   "outputs": [
    {
     "data": {
      "text/html": [
       "<div>\n",
       "<style scoped>\n",
       "    .dataframe tbody tr th:only-of-type {\n",
       "        vertical-align: middle;\n",
       "    }\n",
       "\n",
       "    .dataframe tbody tr th {\n",
       "        vertical-align: top;\n",
       "    }\n",
       "\n",
       "    .dataframe thead th {\n",
       "        text-align: right;\n",
       "    }\n",
       "</style>\n",
       "<table border=\"1\" class=\"dataframe\">\n",
       "  <thead>\n",
       "    <tr style=\"text-align: right;\">\n",
       "      <th></th>\n",
       "      <th>id</th>\n",
       "      <th>tag</th>\n",
       "      <th>html</th>\n",
       "      <th>sent id</th>\n",
       "      <th>text</th>\n",
       "      <th>target</th>\n",
       "    </tr>\n",
       "  </thead>\n",
       "  <tbody>\n",
       "    <tr>\n",
       "      <th>0</th>\n",
       "      <td>0</td>\n",
       "      <td>cv000</td>\n",
       "      <td>29590</td>\n",
       "      <td>0</td>\n",
       "      <td>films adapted from comic books have had plenty...</td>\n",
       "      <td>pos</td>\n",
       "    </tr>\n",
       "    <tr>\n",
       "      <th>1</th>\n",
       "      <td>0</td>\n",
       "      <td>cv000</td>\n",
       "      <td>29590</td>\n",
       "      <td>1</td>\n",
       "      <td>for starters , it was created by alan moore ( ...</td>\n",
       "      <td>pos</td>\n",
       "    </tr>\n",
       "    <tr>\n",
       "      <th>2</th>\n",
       "      <td>0</td>\n",
       "      <td>cv000</td>\n",
       "      <td>29590</td>\n",
       "      <td>2</td>\n",
       "      <td>to say moore and campbell thoroughly researche...</td>\n",
       "      <td>pos</td>\n",
       "    </tr>\n",
       "    <tr>\n",
       "      <th>3</th>\n",
       "      <td>0</td>\n",
       "      <td>cv000</td>\n",
       "      <td>29590</td>\n",
       "      <td>3</td>\n",
       "      <td>the book ( or \" graphic novel , \" if you will ...</td>\n",
       "      <td>pos</td>\n",
       "    </tr>\n",
       "    <tr>\n",
       "      <th>4</th>\n",
       "      <td>0</td>\n",
       "      <td>cv000</td>\n",
       "      <td>29590</td>\n",
       "      <td>4</td>\n",
       "      <td>in other words , don't dismiss this film becau...</td>\n",
       "      <td>pos</td>\n",
       "    </tr>\n",
       "  </tbody>\n",
       "</table>\n",
       "</div>"
      ],
      "text/plain": [
       "   id    tag   html  sent id  \\\n",
       "0   0  cv000  29590        0   \n",
       "1   0  cv000  29590        1   \n",
       "2   0  cv000  29590        2   \n",
       "3   0  cv000  29590        3   \n",
       "4   0  cv000  29590        4   \n",
       "\n",
       "                                                text target  \n",
       "0  films adapted from comic books have had plenty...    pos  \n",
       "1  for starters , it was created by alan moore ( ...    pos  \n",
       "2  to say moore and campbell thoroughly researche...    pos  \n",
       "3  the book ( or \" graphic novel , \" if you will ...    pos  \n",
       "4  in other words , don't dismiss this film becau...    pos  "
      ]
     },
     "execution_count": 3,
     "metadata": {},
     "output_type": "execute_result"
    }
   ],
   "source": [
    "df.head()"
   ]
  },
  {
   "cell_type": "code",
   "execution_count": 6,
   "id": "c15f83f1",
   "metadata": {},
   "outputs": [
    {
     "data": {
      "text/plain": [
       "120000"
      ]
     },
     "execution_count": 6,
     "metadata": {},
     "output_type": "execute_result"
    }
   ],
   "source": [
    "df.size"
   ]
  },
  {
   "cell_type": "code",
   "execution_count": null,
   "id": "d30d05b3",
   "metadata": {},
   "outputs": [],
   "source": []
  },
  {
   "cell_type": "code",
   "execution_count": null,
   "id": "e5f0de4a",
   "metadata": {},
   "outputs": [],
   "source": [
    "# # Convert to lowercase and print the result\n",
    "# movie_lower = movie.lower()\n",
    "# print(movie_lower)\n",
    "\n",
    "# # Remove specified character and print the result\n",
    "# movie_no_sign = movie_lower.strip(\"$\")\n",
    "# print(movie_no_sign)\n",
    "\n",
    "# # Split the string into substrings and print the result\n",
    "# movie_split = movie_no_sign.split()\n",
    "# print(movie_split)\n",
    "\n",
    "# # Select root word and print the result\n",
    "# word_root = movie_split[1][:-2]\n",
    "# print(word_root)"
   ]
  },
  {
   "cell_type": "code",
   "execution_count": null,
   "id": "08456a14",
   "metadata": {},
   "outputs": [],
   "source": [
    "# # Remove tags happening at the end and print results\n",
    "# movie_tag = movie.rstrip(\"<\\i>\")\n",
    "# print(movie_tag)\n",
    "\n",
    "# # Split the string using commas and print results\n",
    "# movie_no_comma = movie_tag.split(\",\")\n",
    "# print(movie_no_comma)\n",
    "\n",
    "# # Join back together and print results\n",
    "# movie_join = \" \".join(movie_no_comma)\n",
    "# print(movie_join)"
   ]
  },
  {
   "cell_type": "code",
   "execution_count": null,
   "id": "66ad6867",
   "metadata": {},
   "outputs": [],
   "source": [
    "# # Split string at line boundaries\n",
    "# file_split = file.split(sep=\"\\n\")\n",
    "# # Print file_split\n",
    "# print(file_split)\n",
    "\n",
    "# # Complete for-loop to split by commas\n",
    "# for substring in file_split:\n",
    "#     substring_split = substring.split(sep = \",\")\n",
    "#     print(substring_split)"
   ]
  },
  {
   "cell_type": "code",
   "execution_count": null,
   "id": "a3468d98",
   "metadata": {},
   "outputs": [],
   "source": [
    "# for movie in movies:\n",
    "#   \t# If actor is not found between character 37 and 41 inclusive\n",
    "#     # Print word not found\n",
    "#     if movie.find(\"actor\", 37, 42) == -1:\n",
    "#         print(\"Word not found\")\n",
    "#     # Count occurrences and replace two with one\n",
    "#     elif movie.count(\"actor\") == 2:  \n",
    "#         print(movie.replace(\"actor actor\", \"actor\"))\n",
    "#     else:\n",
    "#         # Replace three occurrences with one\n",
    "#         print(movie.replace(\"actor actor actor\", \"actor\"))"
   ]
  },
  {
   "cell_type": "code",
   "execution_count": null,
   "id": "273ec43b",
   "metadata": {},
   "outputs": [],
   "source": [
    "# for movie in movies:\n",
    "#   try:\n",
    "#     # Find the first occurrence of word\n",
    "#   \tprint(movie.index(\"money\", 12, 51))\n",
    "#   except ValueError:\n",
    "#     print(\"substring not found\")"
   ]
  },
  {
   "cell_type": "code",
   "execution_count": null,
   "id": "fa10555a",
   "metadata": {},
   "outputs": [],
   "source": [
    "# # Replace negations \n",
    "# movies_no_negation = movies.replace(\"isn't\", \"is\")\n",
    "\n",
    "# # Replace important\n",
    "# movies_antonym = movies_no_negation.replace(\"important\", \"insignificant\")\n",
    "\n",
    "# # Print out\n",
    "# print(movies_antonym)"
   ]
  },
  {
   "cell_type": "code",
   "execution_count": null,
   "id": "0826b90e",
   "metadata": {},
   "outputs": [],
   "source": []
  }
 ],
 "metadata": {
  "kernelspec": {
   "display_name": "Python 3 (ipykernel)",
   "language": "python",
   "name": "python3"
  },
  "language_info": {
   "codemirror_mode": {
    "name": "ipython",
    "version": 3
   },
   "file_extension": ".py",
   "mimetype": "text/x-python",
   "name": "python",
   "nbconvert_exporter": "python",
   "pygments_lexer": "ipython3",
   "version": "3.9.12"
  }
 },
 "nbformat": 4,
 "nbformat_minor": 5
}
