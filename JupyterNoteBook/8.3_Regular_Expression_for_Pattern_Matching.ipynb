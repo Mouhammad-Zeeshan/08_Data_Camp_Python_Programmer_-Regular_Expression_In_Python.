{
 "cells": [
  {
   "cell_type": "code",
   "execution_count": 4,
   "id": "dd516b0a",
   "metadata": {},
   "outputs": [],
   "source": [
    "import re\n",
    "import pandas as pd"
   ]
  },
  {
   "cell_type": "code",
   "execution_count": 6,
   "id": "8344a0cf",
   "metadata": {},
   "outputs": [],
   "source": [
    "df= pd.read_csv(\"short_tweets.csv\")"
   ]
  },
  {
   "cell_type": "code",
   "execution_count": null,
   "id": "893e453e",
   "metadata": {},
   "outputs": [],
   "source": []
  },
  {
   "cell_type": "code",
   "execution_count": null,
   "id": "7b4b500b",
   "metadata": {},
   "outputs": [],
   "source": [
    "# # Import the re module\n",
    "# import re\n",
    "\n",
    "# # Write the regex\n",
    "# regex = r\"@robot\\d\\W\"\n",
    "\n",
    "# # Find all matches of regex\n",
    "# print(re.findall(regex,sentiment_analysis))"
   ]
  },
  {
   "cell_type": "code",
   "execution_count": null,
   "id": "fea1a978",
   "metadata": {},
   "outputs": [],
   "source": [
    "# # Write a regex to obtain user mentions\n",
    "# print(re.findall(r\"User_mentions:\\d\", sentiment_analysis))\n",
    "\n",
    "# # Write a regex to obtain number of likes\n",
    "# print(re.findall(r\"likes:\\s\\d\", sentiment_analysis))\n",
    "\n",
    "# # Write a regex to obtain number of retweets\n",
    "# print(re.findall(r\"number\\sof\\sretweets:\\s\\d\", sentiment_analysis))"
   ]
  },
  {
   "cell_type": "code",
   "execution_count": null,
   "id": "8186d6b6",
   "metadata": {},
   "outputs": [],
   "source": [
    "# # Write a regex to match pattern separating sentences\n",
    "# regex_sentence = r\"\\W\\dbreak\\W\"\n",
    "\n",
    "# # Replace the regex_sentence with a space\n",
    "# sentiment_sub = re.sub(regex_sentence, \" \", sentiment_analysis)\n",
    "\n",
    "# # Write a regex to match pattern separating words\n",
    "# regex_words = r\"\\Wnew\\w\"\n",
    "\n",
    "# # Replace the regex_words and print the result\n",
    "# sentiment_final = re.sub(regex_words, \" \", sentiment_sub)\n",
    "# print(sentiment_final)"
   ]
  },
  {
   "cell_type": "markdown",
   "id": "82ef0ecd",
   "metadata": {},
   "source": [
    "## Quantifier: "
   ]
  },
  {
   "cell_type": "code",
   "execution_count": null,
   "id": "8030e729",
   "metadata": {},
   "outputs": [],
   "source": [
    "# # Import re module\n",
    "# import re\n",
    "\n",
    "# for tweet in sentiment_analysis:\n",
    "#   \t# Write regex to match http links and print out result\n",
    "# \tprint(re.findall(r\"http\\S+\", tweet))\n",
    "\n",
    "# \t# Write regex to match user mentions and print out result\n",
    "# \tprint(re.findall(r\"@\\w+\", tweet))"
   ]
  },
  {
   "cell_type": "code",
   "execution_count": null,
   "id": "5a022ac1",
   "metadata": {},
   "outputs": [],
   "source": []
  },
  {
   "cell_type": "code",
   "execution_count": null,
   "id": "ef1bf727",
   "metadata": {},
   "outputs": [],
   "source": [
    "# # Complete the for loop with a regex to find dates\n",
    "# for date in sentiment_analysis:\n",
    "# \tprint(re.findall(r\"\\d{1,2}\\s\\w+\\s\\w+\", date))\n",
    "    \n",
    "# # Complete the for loop with a regex to find dates\n",
    "# for date in sentiment_analysis:\n",
    "# \tprint(re.findall(r\"\\d{1,2}\\w+\\s\\w+\\s\\d{4}\", date))\n",
    "\n",
    "# # Complete the for loop with a regex to find dates\n",
    "# for date in sentiment_analysis:\n",
    "# \tprint(re.findall(r\"\\d{1,2}\\w+\\s\\w+\\s\\d{4}\\s\\d{1,2}:\\d{2}\", date))\n",
    "\n",
    "    \n"
   ]
  },
  {
   "cell_type": "code",
   "execution_count": null,
   "id": "92c45ada",
   "metadata": {},
   "outputs": [],
   "source": [
    "# # Write a regex matching the hashtag pattern\n",
    "# regex = r\"#\\w+\"\n",
    "\n",
    "# # Replace the regex by an empty string\n",
    "# no_hashtag = re.sub(regex, \"\", sentiment_analysis)\n",
    "\n",
    "# # Get tokens by splitting text\n",
    "# print(re.split(r\"\\s+\", no_hashtag))"
   ]
  },
  {
   "cell_type": "code",
   "execution_count": null,
   "id": "4d67ed87",
   "metadata": {},
   "outputs": [],
   "source": [
    "# # Write a regex to match text file name\n",
    "# regex = r\"^[aeiouAEIOU]{2,3}.+txt\"\n",
    "\n",
    "# for text in sentiment_analysis:\n",
    "# \t# Find all matches of the regex\n",
    "# \tprint(re.findall(regex, text))\n",
    "    \n",
    "# \t# Replace all matches with empty string\n",
    "# \tprint(re.sub(regex, \"\", text))"
   ]
  },
  {
   "cell_type": "code",
   "execution_count": null,
   "id": "c27a990d",
   "metadata": {},
   "outputs": [],
   "source": [
    "# # Write a regex to match a valid email address\n",
    "# regex = r\"[A-Za-z0-9!#%&*\\$\\.]+@\\w+\\.com\"\n",
    "\n",
    "# for example in emails:\n",
    "#   \t# Match the regex to the string\n",
    "#     if re.match(regex, example):\n",
    "#         # Complete the format method to print out the result\n",
    "#       \tprint(\"The email {email_example} is a valid email\".format(email_example=example))\n",
    "#     else:\n",
    "#       \tprint(\"The email {email_example} is invalid\".format(email_example=example))   "
   ]
  },
  {
   "cell_type": "code",
   "execution_count": null,
   "id": "211bc520",
   "metadata": {},
   "outputs": [],
   "source": []
  },
  {
   "cell_type": "code",
   "execution_count": null,
   "id": "d2d55b65",
   "metadata": {},
   "outputs": [],
   "source": [
    "# # Write a regex to check if the password is valid\n",
    "# regex = r\"[a-zA-Z0-9*#\\$%!&]{8,20}\"\n",
    "\n",
    "# for example in passwords:\n",
    "#   \t# Scan the strings to find a match\n",
    "#     if re.match(regex, example):\n",
    "#         # Complete the format method to print out the result\n",
    "#       \tprint(\"The password {pass_example} is a valid password\".format(pass_example=example))\n",
    "#     else:\n",
    "#       \tprint(\"The password {pass_example} is invalid\".format(pass_example=example))   "
   ]
  },
  {
   "cell_type": "code",
   "execution_count": null,
   "id": "68e4f630",
   "metadata": {},
   "outputs": [],
   "source": []
  },
  {
   "cell_type": "code",
   "execution_count": null,
   "id": "7162bd7d",
   "metadata": {},
   "outputs": [],
   "source": [
    "#  # Import re\n",
    "# import re\n",
    "\n",
    "# # Write a regex to eliminate tags\n",
    "# string_notags = re.sub(r\"<.+>\", \"\", string)\n",
    "\n",
    "# # Print out the result\n",
    "# print(string_notags)"
   ]
  },
  {
   "cell_type": "code",
   "execution_count": null,
   "id": "0e2d2d25",
   "metadata": {},
   "outputs": [],
   "source": [
    "# # Write a lazy regex expression \n",
    "# numbers_found_lazy = re.findall(r\"\\d+?\", sentiment_analysis)\n",
    "\n",
    "# # Print out the result\n",
    "# print(numbers_found_lazy)\n",
    "\n",
    "# # Write a greedy regex expression \n",
    "# numbers_found_greedy = re.findall(r\"\\d+\", sentiment_analysis)\n",
    "\n",
    "# # Print out the result\n",
    "# print(numbers_found_greedy)"
   ]
  },
  {
   "cell_type": "code",
   "execution_count": null,
   "id": "53c93ca1",
   "metadata": {},
   "outputs": [],
   "source": []
  },
  {
   "cell_type": "code",
   "execution_count": null,
   "id": "34a5d1e8",
   "metadata": {},
   "outputs": [],
   "source": [
    "# # # Write a greedy regex expression to match \n",
    "# # sentences_found_greedy = re.findall(r\"\\(.*\\)\", sentiment_analysis)\n",
    "\n",
    "# # # Print out the result\n",
    "# # print(sentences_found_greedy)\n",
    "\n",
    "# # Write a lazy regex expression\n",
    "# sentences_found_lazy = re.findall(r\"\\(.*?\\)\", sentiment_analysis)\n",
    "\n",
    "# # Print out the results\n",
    "# print(sentences_found_lazy)"
   ]
  }
 ],
 "metadata": {
  "kernelspec": {
   "display_name": "Python 3 (ipykernel)",
   "language": "python",
   "name": "python3"
  },
  "language_info": {
   "codemirror_mode": {
    "name": "ipython",
    "version": 3
   },
   "file_extension": ".py",
   "mimetype": "text/x-python",
   "name": "python",
   "nbconvert_exporter": "python",
   "pygments_lexer": "ipython3",
   "version": "3.9.12"
  }
 },
 "nbformat": 4,
 "nbformat_minor": 5
}
